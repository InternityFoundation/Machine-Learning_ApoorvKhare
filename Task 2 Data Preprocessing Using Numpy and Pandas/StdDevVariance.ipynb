{
 "cells": [
  {
   "cell_type": "markdown",
   "metadata": {},
   "source": [
    "# Standard Deviation and Variance"
   ]
  },
  {
   "cell_type": "code",
   "execution_count": 2,
   "metadata": {},
   "outputs": [
    {
     "data": {
      "text/plain": [
       "array([124.75967363, 167.59399353, 133.84227378, 100.21217615,\n",
       "       180.29187449,  74.7851974 , 110.43556299, 140.16939273,\n",
       "        52.05166437,  49.80545441, 130.63613065, 157.73216095,\n",
       "        57.60360434, 129.5976603 , 135.88573762, 154.75615437,\n",
       "        64.00723825, 146.19478749,  65.69188205,  36.83605824,\n",
       "        71.11645682, 105.5698911 , 132.86091764,  42.44686755,\n",
       "        17.80828883,  64.72751098, 124.15149048, 202.7502529 ,\n",
       "       106.18007233, 173.27884024,  97.54997437,  41.11100872,\n",
       "       146.64186899,  96.97046377, 118.38231093,  61.71839351,\n",
       "       200.54187304,  43.77247833, 132.18321951, 140.07484728,\n",
       "        23.13757944, 187.33063823,  86.1126776 , 157.59175589,\n",
       "        70.56193567, 122.97719563, 168.03392294, 126.0171209 ,\n",
       "       107.43875663,  83.16653202])"
      ]
     },
     "execution_count": 2,
     "metadata": {},
     "output_type": "execute_result"
    }
   ],
   "source": [
    "#%matplotlib inline\n",
    "import numpy as np\n",
    "#import matplotlib.pyplot as plt\n",
    "\n",
    "incomes = np.random.normal(100.0, 50.0, 50)\n",
    "incomes\n",
    "#plt.hist(incomes)\n",
    "#plt.show()"
   ]
  },
  {
   "cell_type": "code",
   "execution_count": 3,
   "metadata": {},
   "outputs": [
    {
     "data": {
      "text/plain": [
       "47.47941054632347"
      ]
     },
     "execution_count": 3,
     "metadata": {},
     "output_type": "execute_result"
    }
   ],
   "source": [
    "incomes.std()"
   ]
  },
  {
   "cell_type": "code",
   "execution_count": 8,
   "metadata": {},
   "outputs": [
    {
     "data": {
      "text/plain": [
       "2428.618016974211"
      ]
     },
     "execution_count": 8,
     "metadata": {},
     "output_type": "execute_result"
    }
   ],
   "source": [
    "incomes.var()"
   ]
  },
  {
   "cell_type": "code",
   "execution_count": 5,
   "metadata": {},
   "outputs": [
    {
     "name": "stdout",
     "output_type": "stream",
     "text": [
      "38.43487999200726\n"
     ]
    }
   ],
   "source": [
    "import numpy as np\n",
    "data = [2,3,4,5,6,72,98,67,89,68]\n",
    "sd = np.std(data)\n",
    "print(sd)"
   ]
  },
  {
   "cell_type": "markdown",
   "metadata": {},
   "source": [
    "## Activity"
   ]
  },
  {
   "cell_type": "markdown",
   "metadata": {},
   "source": [
    "Experiment with different parameters on the normal function, and see what effect it has on the shape of the distribution. How does that new shape relate to the standard deviation and variance?"
   ]
  },
  {
   "cell_type": "code",
   "execution_count": null,
   "metadata": {
    "collapsed": true
   },
   "outputs": [],
   "source": []
  }
 ],
 "metadata": {
  "kernelspec": {
   "display_name": "Python 3",
   "language": "python",
   "name": "python3"
  },
  "language_info": {
   "codemirror_mode": {
    "name": "ipython",
    "version": 3
   },
   "file_extension": ".py",
   "mimetype": "text/x-python",
   "name": "python",
   "nbconvert_exporter": "python",
   "pygments_lexer": "ipython3",
   "version": "3.7.1"
  }
 },
 "nbformat": 4,
 "nbformat_minor": 1
}
